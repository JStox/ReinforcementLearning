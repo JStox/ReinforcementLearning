{
 "cells": [
  {
   "cell_type": "code",
   "execution_count": 1,
   "metadata": {},
   "outputs": [],
   "source": [
    "import gym\n",
    "import numpy as np\n",
    "import random\n",
    "import time\n",
    "from IPython.display import clear_output"
   ]
  },
  {
   "cell_type": "code",
   "execution_count": 14,
   "metadata": {},
   "outputs": [],
   "source": [
    "env = gym.make('FrozenLake-v0')"
   ]
  },
  {
   "cell_type": "code",
   "execution_count": 15,
   "metadata": {},
   "outputs": [],
   "source": [
    "action_space_size = env.action_space.n\n",
    "state_space_size = env.observation_space.n\n",
    "\n",
    "q_table = np.zeros((state_space_size, action_space_size)) # this is out action-value lookup table"
   ]
  },
  {
   "cell_type": "code",
   "execution_count": 16,
   "metadata": {},
   "outputs": [
    {
     "name": "stdout",
     "output_type": "stream",
     "text": [
      "[[0. 0. 0. 0.]\n",
      " [0. 0. 0. 0.]\n",
      " [0. 0. 0. 0.]\n",
      " [0. 0. 0. 0.]\n",
      " [0. 0. 0. 0.]\n",
      " [0. 0. 0. 0.]\n",
      " [0. 0. 0. 0.]\n",
      " [0. 0. 0. 0.]\n",
      " [0. 0. 0. 0.]\n",
      " [0. 0. 0. 0.]\n",
      " [0. 0. 0. 0.]\n",
      " [0. 0. 0. 0.]\n",
      " [0. 0. 0. 0.]\n",
      " [0. 0. 0. 0.]\n",
      " [0. 0. 0. 0.]\n",
      " [0. 0. 0. 0.]]\n"
     ]
    }
   ],
   "source": [
    "print(q_table)"
   ]
  },
  {
   "cell_type": "code",
   "execution_count": 23,
   "metadata": {},
   "outputs": [],
   "source": [
    "num_episodes = 10000 # number of episodes we will be attempting\n",
    "max_steps_per_episode = 100 # if we exceed this number we will terminate episode\n",
    "\n",
    "learning_rate = 0.1 # alpha step_size\n",
    "discount_rate = 0.99 # discout of future rewards\n",
    "\n",
    "exploration_rate = 1 # just initial, will change\n",
    "max_exploration_rate = 1\n",
    "min_exploration_rate = 0.01\n",
    "exploration_decay_rate = 0.01"
   ]
  },
  {
   "cell_type": "code",
   "execution_count": 24,
   "metadata": {},
   "outputs": [],
   "source": [
    "rewards_all_episodes = []\n",
    "\n",
    "# Q-learning algorithm\n",
    "for episode in range(num_episodes):\n",
    "    \n",
    "    # initialize new episode params\n",
    "    state = env.reset() # first step\n",
    "    done = False\n",
    "    rewards_current_episode = 0 # this episodes reward\n",
    "    \n",
    "    for step in range(max_steps_per_episode): \n",
    "        # Exploration-exploitation trade-off\n",
    "        # Take new action\n",
    "        # Update Q-table\n",
    "        # Set new state\n",
    "        # Add new reward  \n",
    "        \n",
    "        # Exploration-exploitation trade-off\n",
    "        exploration_rate_threshold = random.uniform(0, 1) # take a sample from this uniform dist\n",
    "        if exploration_rate_threshold > exploration_rate: # if sample is les\n",
    "            action = np.argmax(q_table[state,:]) \n",
    "        else:\n",
    "            action = env.action_space.sample()\n",
    "            \n",
    "        # This line takes a step and assigns values based on the game, in this case its Frozen Lake\n",
    "        new_state, reward, done, info = env.step(action)\n",
    "        \n",
    "        # Update Q-table for Q(s,a)\n",
    "        q_table[state, action] = q_table[state, action] * (1 - learning_rate) \\\n",
    "            + learning_rate * (reward + discount_rate * np.max(q_table[new_state, :]))\n",
    "        \n",
    "        # Transition to next state\n",
    "        state = new_state\n",
    "        rewards_current_episode += reward\n",
    "        \n",
    "        # In case we are done\n",
    "        if done == True: \n",
    "            break\n",
    "    \n",
    "    \n",
    "    # Exploration rate decay   \n",
    "    # Add current episode reward to total rewards list\n",
    "    \n",
    "    # Exploration rate decay   \n",
    "    exploration_rate = min_exploration_rate + (max_exploration_rate - min_exploration_rate) \\\n",
    "        * np.exp(-exploration_decay_rate*episode)\n",
    "    \n",
    "    # Add current episode reward to total rewards list\n",
    "    rewards_all_episodes.append(rewards_current_episode)\n",
    "    "
   ]
  },
  {
   "cell_type": "code",
   "execution_count": 25,
   "metadata": {},
   "outputs": [
    {
     "name": "stdout",
     "output_type": "stream",
     "text": [
      "********Average reward per thousand episodes********\n",
      "\n",
      "1000 :  0.5030000000000003\n",
      "2000 :  0.6590000000000005\n",
      "3000 :  0.6720000000000005\n",
      "4000 :  0.6970000000000005\n",
      "5000 :  0.6930000000000005\n",
      "6000 :  0.6830000000000005\n",
      "7000 :  0.6790000000000005\n",
      "8000 :  0.6830000000000005\n",
      "9000 :  0.6790000000000005\n",
      "10000 :  0.6610000000000005\n"
     ]
    }
   ],
   "source": [
    "# split into 10 arrays, for every 1000 episodes, becomes a list of lists\n",
    "rewards_per_thousand_episodes = np.split(np.array(rewards_all_episodes),num_episodes/1000) \n",
    "count = 1000\n",
    "print(\"********Average reward per thousand episodes********\\n\")\n",
    "for r in rewards_per_thousand_episodes:\n",
    "    print(count, \": \", str(sum(r/1000)))\n",
    "    count += 1000"
   ]
  },
  {
   "cell_type": "markdown",
   "metadata": {},
   "source": [
    "## Blackjack"
   ]
  },
  {
   "cell_type": "markdown",
   "metadata": {},
   "source": [
    "### Q-lookup table:\n",
    "\n",
    "numpy array:\n",
    "\n",
    "state: number of cards in hand, number dealer is showing, do we have an ace\n",
    "\n",
    "action: hit or stay"
   ]
  },
  {
   "cell_type": "code",
   "execution_count": 2,
   "metadata": {},
   "outputs": [],
   "source": [
    "bj = gym.make('Blackjack-v0')"
   ]
  },
  {
   "cell_type": "code",
   "execution_count": 3,
   "metadata": {},
   "outputs": [
    {
     "data": {
      "text/plain": [
       "Discrete(2)"
      ]
     },
     "execution_count": 3,
     "metadata": {},
     "output_type": "execute_result"
    }
   ],
   "source": [
    "bj.action_space"
   ]
  },
  {
   "cell_type": "code",
   "execution_count": 4,
   "metadata": {},
   "outputs": [
    {
     "data": {
      "text/plain": [
       "Tuple(Discrete(32), Discrete(11), Discrete(2))"
      ]
     },
     "execution_count": 4,
     "metadata": {},
     "output_type": "execute_result"
    }
   ],
   "source": [
    "bj.observation_space # 32 is our current total, discrete 11 is dealer showing, discrete 2 is if we have an ace"
   ]
  },
  {
   "cell_type": "code",
   "execution_count": null,
   "metadata": {},
   "outputs": [],
   "source": []
  },
  {
   "cell_type": "code",
   "execution_count": 5,
   "metadata": {},
   "outputs": [
    {
     "data": {
      "text/plain": [
       "2"
      ]
     },
     "execution_count": 5,
     "metadata": {},
     "output_type": "execute_result"
    }
   ],
   "source": [
    "bj.observation_space[2].n"
   ]
  },
  {
   "cell_type": "code",
   "execution_count": 6,
   "metadata": {},
   "outputs": [],
   "source": [
    "q_lookup_table = np.zeros((bj.observation_space[0].n, bj.observation_space[1].n, bj.observation_space[2].n, \n",
    "                         bj.action_space.n))\n",
    "\n",
    "num_episodes = 100000 # number of episodes we will be attempting\n",
    "max_steps_per_episode = 10 # if we exceed this number we will terminate episode\n",
    "\n",
    "learning_rate = 0.01 # alpha step_size\n",
    "discount_rate = 0.99 # discout of future rewards\n",
    "\n",
    "exploration_rate = 1 # just initial, will change\n",
    "max_exploration_rate = 1\n",
    "min_exploration_rate = 0.01\n",
    "exploration_decay_rate = 0.001"
   ]
  },
  {
   "cell_type": "markdown",
   "metadata": {},
   "source": [
    "We will try these parameters again"
   ]
  },
  {
   "cell_type": "code",
   "execution_count": 7,
   "metadata": {},
   "outputs": [
    {
     "name": "stdout",
     "output_type": "stream",
     "text": [
      "1\n",
      "(24, 2, False) -1 True {}\n"
     ]
    }
   ],
   "source": [
    "state = bj.reset()\n",
    "done = False\n",
    "rewards_current_episode = 0\n",
    "\n",
    "action = bj.action_space.sample()\n",
    "\n",
    "print(action)\n",
    "\n",
    "new_state, reward, done, info = bj.step(action)\n",
    "\n",
    "print(new_state, reward, done, info)"
   ]
  },
  {
   "cell_type": "code",
   "execution_count": 8,
   "metadata": {},
   "outputs": [
    {
     "name": "stdout",
     "output_type": "stream",
     "text": [
      "Restart at (20, 10, False)\n",
      "Randomly chose action 0\n",
      "At state: (20, 10, False), received reward: 0.0, we are done? True\n",
      "new q-value of (20, 10, False), 0 is 0.0\n",
      "This episode we received 0.0.\n",
      "Restart at (12, 7, False)\n",
      "Stratgically chose action 1\n",
      "At state: (17, 7, False), received reward: 0, we are done? False\n",
      "new q-value of (12, 7, False), 1 is -0.11516445429580913\n",
      "Stratgically chose action 0\n",
      "At state: (17, 7, False), received reward: 1.0, we are done? True\n",
      "new q-value of (17, 7, False), 0 is -0.0791585179232497\n",
      "This episode we received 1.0.\n",
      "Restart at (11, 7, False)\n",
      "Randomly chose action 1\n",
      "At state: (13, 7, False), received reward: 0, we are done? False\n",
      "new q-value of (11, 7, False), 1 is 0.04628362067294629\n",
      "Stratgically chose action 1\n",
      "At state: (14, 7, False), received reward: 0, we are done? False\n",
      "new q-value of (13, 7, False), 1 is -0.225885960637012\n",
      "Stratgically chose action 1\n",
      "At state: (20, 7, False), received reward: 0, we are done? False\n",
      "new q-value of (14, 7, False), 1 is -0.16158312230922753\n",
      "Stratgically chose action 0\n",
      "At state: (20, 7, False), received reward: 1.0, we are done? True\n",
      "new q-value of (20, 7, False), 0 is 0.687118529718387\n",
      "This episode we received 1.0.\n",
      "Restart at (13, 9, False)\n",
      "Stratgically chose action 0\n",
      "At state: (13, 9, False), received reward: -1.0, we are done? True\n",
      "new q-value of (13, 9, False), 0 is -0.31911295490988784\n",
      "This episode we received -1.0.\n",
      "Restart at (11, 1, False)\n",
      "Randomly chose action 1\n",
      "At state: (19, 1, False), received reward: 0, we are done? False\n",
      "new q-value of (11, 1, False), 1 is -0.06029872824039478\n",
      "Stratgically chose action 0\n",
      "At state: (19, 1, False), received reward: -1.0, we are done? True\n",
      "new q-value of (19, 1, False), 0 is -0.11886712498064159\n",
      "This episode we received -1.0.\n",
      "Restart at (10, 9, False)\n",
      "Stratgically chose action 1\n",
      "At state: (20, 9, False), received reward: 0, we are done? False\n",
      "new q-value of (10, 9, False), 1 is 0.1078561827704352\n",
      "Stratgically chose action 0\n",
      "At state: (20, 9, False), received reward: 0.0, we are done? True\n",
      "new q-value of (20, 9, False), 0 is 0.8112561369520498\n",
      "This episode we received 0.0.\n",
      "Restart at (15, 10, False)\n",
      "Stratgically chose action 1\n",
      "At state: (20, 10, False), received reward: 0, we are done? False\n",
      "new q-value of (15, 10, False), 1 is -0.5814481034641996\n",
      "Stratgically chose action 0\n",
      "At state: (20, 10, False), received reward: 1.0, we are done? True\n",
      "new q-value of (20, 10, False), 0 is 0.4682505553136159\n",
      "This episode we received 1.0.\n",
      "Restart at (15, 1, False)\n",
      "Stratgically chose action 1\n",
      "At state: (19, 1, False), received reward: 0, we are done? False\n",
      "new q-value of (15, 1, False), 1 is -0.6320860705321721\n",
      "Stratgically chose action 0\n",
      "At state: (19, 1, False), received reward: -1.0, we are done? True\n",
      "new q-value of (19, 1, False), 0 is -0.1821912871080249\n",
      "This episode we received -1.0.\n",
      "Restart at (15, 1, False)\n",
      "Stratgically chose action 1\n",
      "At state: (19, 1, False), received reward: 0, we are done? False\n",
      "new q-value of (15, 1, False), 1 is -0.5885650338531695\n",
      "Stratgically chose action 0\n",
      "At state: (19, 1, False), received reward: 0.0, we are done? True\n",
      "new q-value of (19, 1, False), 0 is -0.21156051286693014\n",
      "This episode we received 0.0.\n",
      "Restart at (13, 5, True)\n",
      "Stratgically chose action 1\n",
      "At state: (21, 5, True), received reward: 0, we are done? False\n",
      "new q-value of (13, 5, True), 1 is -0.006749041484869496\n",
      "Stratgically chose action 0\n",
      "At state: (21, 5, True), received reward: 0.0, we are done? True\n",
      "new q-value of (21, 5, True), 0 is 0.8660357636304616\n",
      "This episode we received 0.0.\n"
     ]
    }
   ],
   "source": [
    "rewards_all_episodes = []\n",
    "\n",
    "# Q-learning algorithm\n",
    "for episode in range(num_episodes):\n",
    "    \n",
    "    # initialize new episode params\n",
    "    state = bj.reset() # first step\n",
    "    if not episode % 10000:\n",
    "        print(f'Restart at {state}')\n",
    "    done = False\n",
    "    rewards_current_episode = 0 # this episodes reward\n",
    "    \n",
    "    for step in range(max_steps_per_episode): \n",
    "        # Exploration-exploitation trade-off\n",
    "        # Take new action\n",
    "        # Update Q-table\n",
    "        # Set new state\n",
    "        # Add new reward  \n",
    "        \n",
    "        # Exploration-exploitation trade-off\n",
    "        exploration_rate_threshold = random.uniform(0, 1) # take a sample from this uniform dist\n",
    "        if exploration_rate_threshold > exploration_rate: # if sample is les\n",
    "            action = np.argmax(q_lookup_table[state[0], state[1], int(state[2]),:]) \n",
    "            if not episode % 10000:\n",
    "                print(f'Stratgically chose action {action}')\n",
    "        else:\n",
    "            action = bj.action_space.sample() # either hit or stay\n",
    "            if state[0] < 12:\n",
    "                action = 1\n",
    "            if not episode % 10000:\n",
    "                print(f'Randomly chose action {action}')\n",
    "        \n",
    "            \n",
    "        # This line takes a step and assigns values based on the game\n",
    "        new_state, reward, done, info = bj.step(action)\n",
    "        if not episode % 10000:\n",
    "            print(f'At state: {new_state}, received reward: {reward}, we are done? {done}')\n",
    "        \n",
    "        # Update Q-table for Q(s,a)\n",
    "        if done:\n",
    "            q_lookup_table[state[0], state[1], int(state[2]), action] = q_lookup_table[state[0], state[1], int(state[2]), action] \\\n",
    "                * (1 - learning_rate) + learning_rate * reward\n",
    "        else:\n",
    "            q_lookup_table[state[0], state[1], int(state[2]), action] = q_lookup_table[state[0], state[1], int(state[2]), action] \\\n",
    "                * (1 - learning_rate) + learning_rate * (reward + discount_rate \\\n",
    "                * np.max(q_lookup_table[new_state[0], new_state[1], int(new_state[2]), :]))\n",
    "        \n",
    "        if not episode % 10000:\n",
    "            print(f'new q-value of {state}, {action} is {q_lookup_table[state[0], state[1], int(state[2]), action]}')\n",
    "        \n",
    "        # Transition to next state\n",
    "        state = new_state\n",
    "        rewards_current_episode += reward\n",
    "        \n",
    "        # In case we are done\n",
    "        if done == True: \n",
    "            break\n",
    "    \n",
    "    \n",
    "    # Exploration rate decay   \n",
    "    # Add current episode reward to total rewards list\n",
    "    \n",
    "    # Exploration rate decay   \n",
    "    exploration_rate = min_exploration_rate + (max_exploration_rate - min_exploration_rate) \\\n",
    "        * np.exp(-exploration_decay_rate*episode)\n",
    "    \n",
    "    # Add current episode reward to total rewards list\n",
    "    rewards_all_episodes.append(rewards_current_episode)\n",
    "    if not episode % 10000:\n",
    "        print(f'This episode we received {rewards_current_episode}.')"
   ]
  },
  {
   "cell_type": "code",
   "execution_count": 9,
   "metadata": {},
   "outputs": [
    {
     "name": "stdout",
     "output_type": "stream",
     "text": [
      "********Average reward per thousand episodes********\n",
      "\n",
      "1000 :  -0.2730000000000002\n",
      "2000 :  -0.20800000000000016\n",
      "3000 :  -0.17600000000000013\n",
      "4000 :  -0.09000000000000007\n",
      "5000 :  -0.06200000000000005\n",
      "6000 :  -0.11000000000000008\n",
      "7000 :  -0.08500000000000006\n",
      "8000 :  -0.09800000000000007\n",
      "9000 :  -0.08100000000000006\n",
      "10000 :  -0.1320000000000001\n",
      "11000 :  -0.12700000000000009\n",
      "12000 :  -0.11700000000000009\n",
      "13000 :  -0.11300000000000009\n",
      "14000 :  -0.10700000000000008\n",
      "15000 :  -0.10100000000000008\n",
      "16000 :  -0.07300000000000005\n",
      "17000 :  -0.058000000000000045\n",
      "18000 :  -0.05600000000000004\n",
      "19000 :  -0.10300000000000008\n",
      "20000 :  -0.10400000000000008\n",
      "21000 :  -0.035000000000000024\n",
      "22000 :  -0.04100000000000003\n",
      "23000 :  -0.03800000000000003\n",
      "24000 :  -0.08900000000000007\n",
      "25000 :  -0.06800000000000005\n",
      "26000 :  -0.1220000000000001\n",
      "27000 :  -0.04500000000000003\n",
      "28000 :  -0.10100000000000008\n",
      "29000 :  -0.047000000000000035\n",
      "30000 :  -0.04100000000000003\n",
      "31000 :  -0.04300000000000003\n",
      "32000 :  -0.09000000000000007\n",
      "33000 :  -0.06900000000000005\n",
      "34000 :  -0.09100000000000007\n",
      "35000 :  -0.09100000000000007\n",
      "36000 :  -0.08800000000000006\n",
      "37000 :  -0.07800000000000006\n",
      "38000 :  -0.07700000000000005\n",
      "39000 :  -0.03100000000000002\n",
      "40000 :  -0.04400000000000003\n",
      "41000 :  -0.06600000000000004\n",
      "42000 :  -0.09200000000000007\n",
      "43000 :  -0.06600000000000004\n",
      "44000 :  -0.04300000000000003\n",
      "45000 :  -0.1440000000000001\n",
      "46000 :  -0.06600000000000004\n",
      "47000 :  -0.09000000000000007\n",
      "48000 :  -0.05800000000000004\n",
      "49000 :  -0.12000000000000009\n",
      "50000 :  -0.08300000000000006\n",
      "51000 :  -0.1320000000000001\n",
      "52000 :  -0.08600000000000006\n",
      "53000 :  -0.07600000000000005\n",
      "54000 :  -0.10600000000000008\n",
      "55000 :  -0.08800000000000006\n",
      "56000 :  -0.09600000000000007\n",
      "57000 :  -0.07500000000000005\n",
      "58000 :  -0.09200000000000007\n",
      "59000 :  -0.06800000000000005\n",
      "60000 :  -0.11600000000000009\n",
      "61000 :  -0.08400000000000006\n",
      "62000 :  -0.048000000000000036\n",
      "63000 :  -0.10000000000000007\n",
      "64000 :  -0.09500000000000007\n",
      "65000 :  -0.09700000000000007\n",
      "66000 :  -0.03100000000000002\n",
      "67000 :  -0.05500000000000004\n",
      "68000 :  -0.12400000000000008\n",
      "69000 :  -0.07200000000000005\n",
      "70000 :  -0.05900000000000004\n",
      "71000 :  -0.022000000000000013\n",
      "72000 :  -0.02100000000000001\n",
      "73000 :  -0.08400000000000006\n",
      "74000 :  -0.08100000000000006\n",
      "75000 :  -0.10400000000000008\n",
      "76000 :  -0.02000000000000001\n",
      "77000 :  -0.06700000000000005\n",
      "78000 :  -0.08400000000000006\n",
      "79000 :  -0.03200000000000002\n",
      "80000 :  -0.08700000000000006\n",
      "81000 :  -0.08500000000000006\n",
      "82000 :  -0.07600000000000005\n",
      "83000 :  -0.07700000000000005\n",
      "84000 :  -0.04100000000000003\n",
      "85000 :  -0.04900000000000003\n",
      "86000 :  -0.07600000000000005\n",
      "87000 :  -0.05800000000000004\n",
      "88000 :  -0.12600000000000008\n",
      "89000 :  -0.06200000000000004\n",
      "90000 :  -0.048000000000000036\n",
      "91000 :  -0.035000000000000024\n",
      "92000 :  -0.11500000000000009\n",
      "93000 :  -0.04500000000000003\n",
      "94000 :  -0.07700000000000005\n",
      "95000 :  -0.09400000000000007\n",
      "96000 :  -0.06600000000000004\n",
      "97000 :  -0.07900000000000006\n",
      "98000 :  -0.06400000000000004\n",
      "99000 :  -0.07900000000000006\n",
      "100000 :  -0.10400000000000008\n"
     ]
    }
   ],
   "source": [
    "# split into 10 arrays, for every 1000 episodes, becomes a list of lists\n",
    "rewards_per_thousand_episodes = np.split(np.array(rewards_all_episodes),num_episodes/1000) \n",
    "count = 1000\n",
    "print(\"********Average reward per thousand episodes********\\n\")\n",
    "for r in rewards_per_thousand_episodes:\n",
    "    print(count, \": \", str(sum(r/1000)))\n",
    "    count += 1000"
   ]
  },
  {
   "cell_type": "code",
   "execution_count": 10,
   "metadata": {},
   "outputs": [
    {
     "name": "stdout",
     "output_type": "stream",
     "text": [
      "-0.5947764951124034\n",
      "-0.029700999999999998\n",
      "0.8705315975431326\n",
      "0.30699492915307697\n"
     ]
    }
   ],
   "source": [
    "print(q_lookup_table[16, 8, 0, 1])\n",
    "print(q_lookup_table[21, 9, 0, 1])\n",
    "print(q_lookup_table[21, 3, 1, 0])\n",
    "print(q_lookup_table[20, 1, 0, 0])"
   ]
  },
  {
   "cell_type": "code",
   "execution_count": 11,
   "metadata": {},
   "outputs": [
    {
     "name": "stdout",
     "output_type": "stream",
     "text": [
      "41568\n",
      "8675\n",
      "49757\n"
     ]
    }
   ],
   "source": [
    "print(rewards_all_episodes.count(1))\n",
    "print(rewards_all_episodes.count(0))\n",
    "print(rewards_all_episodes.count(-1))"
   ]
  },
  {
   "cell_type": "code",
   "execution_count": 12,
   "metadata": {},
   "outputs": [
    {
     "data": {
      "text/plain": [
       "<matplotlib.legend.Legend at 0x7f0657e505c0>"
      ]
     },
     "execution_count": 12,
     "metadata": {},
     "output_type": "execute_result"
    },
    {
     "data": {
      "image/png": "[encoded data removed]",
      "text/plain": [
       "<Figure size 432x288 with 1 Axes>"
      ]
     },
     "metadata": {
      "needs_background": "light"
     },
     "output_type": "display_data"
    }
   ],
   "source": [
    "import matplotlib.pyplot as plt\n",
    "%matplotlib inline\n",
    "\n",
    "plt.plot(np.arange(bj.observation_space[0].n), q_lookup_table[:, 5, 0, 1], label='Hit')\n",
    "plt.plot(np.arange(bj.observation_space[0].n), q_lookup_table[:, 5, 0, 0], label='Stick')\n",
    "plt.title('Q-values of hands when dealer showing 5')\n",
    "plt.legend()"
   ]
  },
  {
   "cell_type": "code",
   "execution_count": 24,
   "metadata": {},
   "outputs": [
    {
     "name": "stdout",
     "output_type": "stream",
     "text": [
      "13.0 -18.0\n",
      "-122.0\n"
     ]
    },
    {
     "data": {
      "image/png": "[encoded data removed]",
      "text/plain": [
       "<Figure size 432x288 with 1 Axes>"
      ]
     },
     "metadata": {
      "needs_background": "light"
     },
     "output_type": "display_data"
    }
   ],
   "source": [
    "rewards = []\n",
    "summative_total = 0\n",
    "for i in range(100):\n",
    "    total_reward = 0\n",
    "    num_games = 30\n",
    "\n",
    "    for game in range(num_games):\n",
    "        state = bj.reset()\n",
    "        #print(f'State: {state}')\n",
    "        for step in range(5):\n",
    "            action = np.argmax(q_lookup_table[state[0], state[1], int(state[2]), :])\n",
    "            #print(f'Chose action {action}')\n",
    "            new_state, reward, done, info = bj.step(action)\n",
    "            #print(f'Now in state {new_state}')\n",
    "\n",
    "            if done:\n",
    "                #print(f'Received reward {reward}')\n",
    "                total_reward += reward\n",
    "                break\n",
    "\n",
    "            state = new_state\n",
    "\n",
    "    rewards.append(total_reward)\n",
    "    summative_total += total_reward\n",
    "\n",
    "print(max(rewards), min(rewards))\n",
    "bin_amount = max(rewards) - min(rewards)\n",
    "plt.hist(rewards, bins=int(bin_amount))   \n",
    "plt.xlabel('Amount won')\n",
    "plt.ylabel('Frequency')\n",
    "plt.title('Blackjack bot winnings')\n",
    "print(summative_total)"
   ]
  },
  {
   "cell_type": "code",
   "execution_count": 44,
   "metadata": {},
   "outputs": [
    {
     "data": {
      "image/png": "[encoded data removed]",
      "text/plain": [
       "<Figure size 432x288 with 1 Axes>"
      ]
     },
     "metadata": {
      "needs_background": "light"
     },
     "output_type": "display_data"
    }
   ],
   "source": [
    "from mpl_toolkits.mplot3d import Axes3D \n",
    "\n",
    "# Assuming you have \"2D\" dataset like the following that you need\n",
    "# to plot.\n",
    "#\n",
    "data_2d = q_lookup_table[:22, :, 0, 0]\n",
    "#\n",
    "# Convert it into an numpy array.\n",
    "#\n",
    "data_array = np.array(data_2d)\n",
    "#\n",
    "# Create a figure for plotting the data as a 3D histogram.\n",
    "#\n",
    "fig = plt.figure()\n",
    "ax = fig.add_subplot(111, projection='3d')\n",
    "#\n",
    "# Create an X-Y mesh of the same dimension as the 2D data. You can\n",
    "# think of this as the floor of the plot.\n",
    "#\n",
    "x_data, y_data = np.meshgrid( np.arange(data_array.shape[1]),\n",
    "                              np.arange(data_array.shape[0]) )\n",
    "#\n",
    "# Flatten out the arrays so that they may be passed to \"ax.bar3d\".\n",
    "# Basically, ax.bar3d expects three one-dimensional arrays:\n",
    "# x_data, y_data, z_data. The following call boils down to picking\n",
    "# one entry from each array and plotting a bar to from\n",
    "# (x_data[i], y_data[i], 0) to (x_data[i], y_data[i], z_data[i]).\n",
    "#\n",
    "x_data = x_data.flatten()\n",
    "y_data = y_data.flatten()\n",
    "z_data = data_array.flatten()\n",
    "ax.bar3d( x_data,\n",
    "          y_data,\n",
    "          np.zeros(len(z_data)),\n",
    "          1, 1, z_data, 'blue' )\n",
    "#\n",
    "# Finally, display the plot.\n",
    "#\n",
    "plt.show()"
   ]
  },
  {
   "cell_type": "code",
   "execution_count": 45,
   "metadata": {},
   "outputs": [
    {
     "data": {
      "text/plain": [
       "<mpl_toolkits.mplot3d.art3d.Path3DCollection at 0x7f0654a6b898>"
      ]
     },
     "execution_count": 45,
     "metadata": {},
     "output_type": "execute_result"
    },
    {
     "data": {
      "image/png": "[encoded data removed]",
      "text/plain": [
       "<Figure size 432x288 with 1 Axes>"
      ]
     },
     "metadata": {
      "needs_background": "light"
     },
     "output_type": "display_data"
    }
   ],
   "source": [
    "ax = plt.axes(projection='3d')\n",
    "ax.scatter3D(x_data, y_data, z_data)"
   ]
  },
  {
   "cell_type": "code",
   "execution_count": 50,
   "metadata": {},
   "outputs": [
    {
     "data": {
      "text/plain": [
       "<mpl_toolkits.mplot3d.art3d.Poly3DCollection at 0x7f0656609a90>"
      ]
     },
     "execution_count": 50,
     "metadata": {},
     "output_type": "execute_result"
    }
   ],
   "source": [
    "ax.bar3d(x_data, y_data, z_data, 0, 0, 0)"
   ]
  },
  {
   "cell_type": "code",
   "execution_count": 68,
   "metadata": {},
   "outputs": [],
   "source": [
    "# I just wanted to plot my results :("
   ]
  },
  {
   "cell_type": "code",
   "execution_count": 59,
   "metadata": {},
   "outputs": [
    {
     "data": {
      "text/plain": [
       "(22, 11)"
      ]
     },
     "execution_count": 59,
     "metadata": {},
     "output_type": "execute_result"
    }
   ],
   "source": [
    "q_lookup_table[:22, :, 0, 0].shape"
   ]
  },
  {
   "cell_type": "code",
   "execution_count": null,
   "metadata": {},
   "outputs": [],
   "source": []
  }
 ],
 "metadata": {
  "kernelspec": {
   "display_name": "Python 3",
   "language": "python",
   "name": "python3"
  },
  "language_info": {
   "codemirror_mode": {
    "name": "ipython",
    "version": 3
   },
   "file_extension": ".py",
   "mimetype": "text/x-python",
   "name": "python",
   "nbconvert_exporter": "python",
   "pygments_lexer": "ipython3",
   "version": "3.7.3"
  }
 },
 "nbformat": 4,
 "nbformat_minor": 4
}
